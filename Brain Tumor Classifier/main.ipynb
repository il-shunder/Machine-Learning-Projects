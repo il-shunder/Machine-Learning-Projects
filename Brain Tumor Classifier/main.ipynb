{
 "cells": [
  {
   "cell_type": "markdown",
   "id": "ac1b28b7",
   "metadata": {},
   "source": [
    "## Imports"
   ]
  },
  {
   "cell_type": "code",
   "execution_count": 1,
   "id": "05c0caab",
   "metadata": {},
   "outputs": [],
   "source": [
    "import torch\n",
    "from torch import nn, optim\n",
    "from torchvision import datasets, transforms\n",
    "from torch.utils.data import DataLoader\n",
    "\n",
    "from urllib.request import urlretrieve\n",
    "from zipfile import ZipFile\n",
    "import os"
   ]
  },
  {
   "cell_type": "markdown",
   "id": "179cfdd6",
   "metadata": {},
   "source": [
    "## Dataset Downloading"
   ]
  },
  {
   "cell_type": "code",
   "execution_count": 7,
   "id": "20fabea9",
   "metadata": {},
   "outputs": [
    {
     "name": "stdout",
     "output_type": "stream",
     "text": [
      "The dataset ZIP file was successfully downloaded to 'dataset.zip' file\n"
     ]
    }
   ],
   "source": [
    "DATASET_ZIP_URL = 'https://www.kaggle.com/api/v1/datasets/download/masoudnickparvar/brain-tumor-mri-dataset'\n",
    "LOCAL_ZIP_FILENAME = 'dataset.zip'\n",
    "\n",
    "try:\n",
    "    urlretrieve(DATASET_ZIP_URL, LOCAL_ZIP_FILENAME)\n",
    "    print(f\"The dataset ZIP file was successfully downloaded to '{LOCAL_ZIP_FILENAME}' file\")\n",
    "except Exception as e:\n",
    "    print(f\"Error downloading file: {e}\")\n",
    "    exit()"
   ]
  },
  {
   "cell_type": "code",
   "execution_count": 8,
   "id": "29e947f9",
   "metadata": {},
   "outputs": [
    {
     "name": "stdout",
     "output_type": "stream",
     "text": [
      "The contents of the 'dataset.zip' file were successfully extracted to 'data' directory\n"
     ]
    }
   ],
   "source": [
    "EXTRACT_ZIP_DIR = 'data'\n",
    "\n",
    "try:\n",
    "    if not os.path.isdir(EXTRACT_ZIP_DIR):\n",
    "        with ZipFile(LOCAL_ZIP_FILENAME, 'r') as zip_file:\n",
    "            zip_file.extractall(EXTRACT_ZIP_DIR)\n",
    "        print(f\"The contents of the '{LOCAL_ZIP_FILENAME}' file were successfully extracted to '{EXTRACT_ZIP_DIR}' directory\")\n",
    "    else:\n",
    "        print(f\"Directory with the name '{EXTRACT_ZIP_DIR}' already exists\")\n",
    "except Exception as e:\n",
    "    print(f\"Error extracting ZIP file: {e}\")"
   ]
  },
  {
   "cell_type": "code",
   "execution_count": 9,
   "id": "eb393695",
   "metadata": {},
   "outputs": [
    {
     "name": "stdout",
     "output_type": "stream",
     "text": [
      "Downloaded dataset ZIP file dataset.zip was successfully removed\n"
     ]
    }
   ],
   "source": [
    "try:\n",
    "    os.remove(LOCAL_ZIP_FILENAME)\n",
    "    print(f\"Downloaded dataset ZIP file {LOCAL_ZIP_FILENAME} was successfully removed\")\n",
    "except Exception as e:\n",
    "    print(f\"Error removing ZIP file: {e}\")"
   ]
  },
  {
   "cell_type": "markdown",
   "id": "5fbd3d44",
   "metadata": {},
   "source": [
    "# Device Setting"
   ]
  },
  {
   "cell_type": "code",
   "execution_count": 10,
   "id": "457bfa83",
   "metadata": {},
   "outputs": [],
   "source": [
    "device = torch.device(\"cuda\" if torch.cuda.is_available() else \"cpu\")"
   ]
  },
  {
   "cell_type": "markdown",
   "id": "dc5c74a1",
   "metadata": {},
   "source": [
    "# Dataset Transformations"
   ]
  },
  {
   "cell_type": "code",
   "execution_count": null,
   "id": "d5c46031",
   "metadata": {},
   "outputs": [],
   "source": [
    "tf = transforms.Compose([\n",
    "    transforms.Resize(128, 128),\n",
    "    transforms.ToTensor(),\n",
    "    transforms.Normalize([0.5, 0.5, 0.5], [0.5, 0.5, 0.5])\n",
    "])"
   ]
  },
  {
   "cell_type": "markdown",
   "id": "2ab381e7",
   "metadata": {},
   "source": [
    "# Dataset Loaders"
   ]
  },
  {
   "cell_type": "code",
   "execution_count": null,
   "id": "65a84dbc",
   "metadata": {},
   "outputs": [],
   "source": [
    "train_loader = DataLoader(\n",
    "    dataset=datasets.ImageFolder(root=EXTRACT_ZIP_DIR + '/Training', transform=tf),\n",
    "    batch_size=32,\n",
    "    shuffle=True,\n",
    "    num_workers=4,\n",
    "    pin_memory=True\n",
    ")\n",
    "\n",
    "test_loader = DataLoader(\n",
    "    dataset=datasets.ImageFolder(root=EXTRACT_ZIP_DIR + '/Testing', transform=tf),\n",
    "    batch_size=32,\n",
    "    shuffle=False,\n",
    "    num_workers=4,\n",
    "    pin_memory=True\n",
    ")"
   ]
  },
  {
   "cell_type": "markdown",
   "id": "07e73836",
   "metadata": {},
   "source": [
    "# Model Creation (CNN)"
   ]
  },
  {
   "cell_type": "code",
   "execution_count": null,
   "id": "813077cf",
   "metadata": {},
   "outputs": [],
   "source": [
    "model = nn.Sequential(\n",
    "    nn.Conv2d(3, 32, 3, 1, 1), nn.ReLU(), nn.MaxPool2d(2),\n",
    "    nn.Conv2d(32, 64, 3, 1, 1), nn.ReLU(), nn.MaxPool2d(2),\n",
    "    nn.Conv2d(64, 128, 3, 1, 1), nn.ReLU(), nn.MaxPool2d(2),\n",
    "    nn.Flatten(),\n",
    "    nn.Linear(128 * 16 * 16, 256), nn.ReLU(), nn.Dropout(0.5),\n",
    "    nn.Linear(256, 4) # 4 classes\n",
    ").to(device)"
   ]
  },
  {
   "cell_type": "markdown",
   "id": "5ac1baac",
   "metadata": {},
   "source": [
    "# Loss and Optimizer"
   ]
  },
  {
   "cell_type": "code",
   "execution_count": null,
   "id": "0e024c15",
   "metadata": {},
   "outputs": [],
   "source": [
    "loss_fn = nn.CrossEntropyLoss()\n",
    "optimizer = optim.Adam(model.parameters(), lr=0.0001)"
   ]
  },
  {
   "cell_type": "markdown",
   "id": "4db0472e",
   "metadata": {},
   "source": [
    "# Model Training"
   ]
  },
  {
   "cell_type": "code",
   "execution_count": null,
   "id": "9f9da949",
   "metadata": {},
   "outputs": [],
   "source": [
    "model.train()\n",
    "\n",
    "for epoch in range(30):\n",
    "    running_loss = 0\n",
    "\n",
    "    for x, y in train_loader:\n",
    "        x, y = x.to(device), y.to(device)\n",
    "\n",
    "        # Forward pass\n",
    "        output = model(x)\n",
    "        loss = loss_fn(output, y)\n",
    "\n",
    "        # Backward and optimize\n",
    "        loss.backward()\n",
    "        optimizer.step()\n",
    "        optimizer.zero_grad()\n",
    "    print(f'Epoch {epoch + 1}, Loss: {running_loss}')\n"
   ]
  },
  {
   "cell_type": "markdown",
   "id": "3636552f",
   "metadata": {},
   "source": [
    "# Model Evaluation"
   ]
  },
  {
   "cell_type": "code",
   "execution_count": null,
   "id": "a39c7e15",
   "metadata": {},
   "outputs": [],
   "source": [
    "model.eval()\n",
    "\n",
    "with torch.no_grad():\n",
    "    n_correct = 0\n",
    "    n_samples = len(test_loader.dataset)\n",
    "\n",
    "    for data, targets in test_loader:\n",
    "        data, targets = data.to(device), targets.to(device)\n",
    "\n",
    "        output = model(data)"
   ]
  }
 ],
 "metadata": {
  "kernelspec": {
   "display_name": "Python 3",
   "language": "python",
   "name": "python3"
  },
  "language_info": {
   "codemirror_mode": {
    "name": "ipython",
    "version": 3
   },
   "file_extension": ".py",
   "mimetype": "text/x-python",
   "name": "python",
   "nbconvert_exporter": "python",
   "pygments_lexer": "ipython3",
   "version": "3.12.2"
  }
 },
 "nbformat": 4,
 "nbformat_minor": 5
}
