{
 "cells": [
  {
   "cell_type": "markdown",
   "id": "ac1b28b7",
   "metadata": {},
   "source": [
    "## Imports"
   ]
  },
  {
   "cell_type": "code",
   "execution_count": 6,
   "id": "05c0caab",
   "metadata": {},
   "outputs": [],
   "source": [
    "import torch\n",
    "from torch import nn, optim\n",
    "from torchvision import datasets, transforms\n",
    "from torch.utils.data import DataLoader\n",
    "\n",
    "from urllib.request import urlretrieve\n",
    "from zipfile import ZipFile\n",
    "import os"
   ]
  },
  {
   "cell_type": "markdown",
   "id": "179cfdd6",
   "metadata": {},
   "source": [
    "## Dataset Downloading"
   ]
  },
  {
   "cell_type": "code",
   "execution_count": null,
   "id": "20fabea9",
   "metadata": {},
   "outputs": [],
   "source": [
    "DATASET_ZIP_URL = 'https://www.kaggle.com/api/v1/datasets/download/masoudnickparvar/brain-tumor-mri-dataset'\n",
    "LOCAL_ZIP_FILENAME = 'dataset.zip'\n",
    "\n",
    "try:\n",
    "    urlretrieve(DATASET_ZIP_URL, LOCAL_ZIP_FILENAME)\n",
    "    print(f\"ZIP file downloaded successfully to {LOCAL_ZIP_FILENAME}\")\n",
    "except Exception as e:\n",
    "    print(f\"Error downloading file: {e}\")\n",
    "    exit()"
   ]
  },
  {
   "cell_type": "code",
   "execution_count": null,
   "id": "29e947f9",
   "metadata": {},
   "outputs": [],
   "source": [
    "EXTRACT_ZIP_DIR = 'data'\n",
    "\n",
    "try:\n",
    "    with ZipFile(LOCAL_ZIP_FILENAME, 'r') as zip_file:\n",
    "        zip_file.extractall(EXTRACT_ZIP_DIR)\n",
    "    print(f\"Contents extracted successfully to {EXTRACT_ZIP_DIR}\")\n",
    "except Exception as e:\n",
    "    print(f\"Error extracting ZIP file: {e}\")"
   ]
  }
 ],
 "metadata": {
  "kernelspec": {
   "display_name": "Python 3",
   "language": "python",
   "name": "python3"
  },
  "language_info": {
   "codemirror_mode": {
    "name": "ipython",
    "version": 3
   },
   "file_extension": ".py",
   "mimetype": "text/x-python",
   "name": "python",
   "nbconvert_exporter": "python",
   "pygments_lexer": "ipython3",
   "version": "3.12.2"
  }
 },
 "nbformat": 4,
 "nbformat_minor": 5
}
