{
 "cells": [
  {
   "cell_type": "markdown",
   "id": "ac1b28b7",
   "metadata": {},
   "source": [
    "## Imports"
   ]
  },
  {
   "cell_type": "code",
   "execution_count": 6,
   "id": "05c0caab",
   "metadata": {},
   "outputs": [],
   "source": [
    "import torch\n",
    "from torch import nn, optim\n",
    "from torchvision import datasets, transforms\n",
    "from torch.utils.data import DataLoader\n",
    "\n",
    "from urllib.request import urlretrieve\n",
    "from zipfile import ZipFile\n",
    "import os"
   ]
  },
  {
   "cell_type": "markdown",
   "id": "179cfdd6",
   "metadata": {},
   "source": [
    "## Dataset Downloading"
   ]
  },
  {
   "cell_type": "code",
   "execution_count": 7,
   "id": "20fabea9",
   "metadata": {},
   "outputs": [
    {
     "name": "stdout",
     "output_type": "stream",
     "text": [
      "The dataset ZIP file was successfully downloaded to 'dataset.zip' file\n"
     ]
    }
   ],
   "source": [
    "DATASET_ZIP_URL = 'https://www.kaggle.com/api/v1/datasets/download/masoudnickparvar/brain-tumor-mri-dataset'\n",
    "LOCAL_ZIP_FILENAME = 'dataset.zip'\n",
    "\n",
    "try:\n",
    "    urlretrieve(DATASET_ZIP_URL, LOCAL_ZIP_FILENAME)\n",
    "    print(f\"The dataset ZIP file was successfully downloaded to '{LOCAL_ZIP_FILENAME}' file\")\n",
    "except Exception as e:\n",
    "    print(f\"Error downloading file: {e}\")\n",
    "    exit()"
   ]
  },
  {
   "cell_type": "code",
   "execution_count": 8,
   "id": "29e947f9",
   "metadata": {},
   "outputs": [
    {
     "name": "stdout",
     "output_type": "stream",
     "text": [
      "The contents of the 'dataset.zip' file were successfully extracted to 'data' directory\n"
     ]
    }
   ],
   "source": [
    "EXTRACT_ZIP_DIR = 'data'\n",
    "\n",
    "try:\n",
    "    if not os.path.isdir(EXTRACT_ZIP_DIR):\n",
    "        with ZipFile(LOCAL_ZIP_FILENAME, 'r') as zip_file:\n",
    "            zip_file.extractall(EXTRACT_ZIP_DIR)\n",
    "        print(f\"The contents of the '{LOCAL_ZIP_FILENAME}' file were successfully extracted to '{EXTRACT_ZIP_DIR}' directory\")\n",
    "    else:\n",
    "        print(f\"Directory with the name '{EXTRACT_ZIP_DIR}' already exists\")\n",
    "except Exception as e:\n",
    "    print(f\"Error extracting ZIP file: {e}\")"
   ]
  },
  {
   "cell_type": "code",
   "execution_count": 9,
   "id": "eb393695",
   "metadata": {},
   "outputs": [
    {
     "name": "stdout",
     "output_type": "stream",
     "text": [
      "Downloaded dataset ZIP file dataset.zip was successfully removed\n"
     ]
    }
   ],
   "source": [
    "try:\n",
    "    os.remove(LOCAL_ZIP_FILENAME)\n",
    "    print(f\"Downloaded dataset ZIP file {LOCAL_ZIP_FILENAME} was successfully removed\")\n",
    "except Exception as e:\n",
    "    print(f\"Error removing ZIP file: {e}\")"
   ]
  },
  {
   "cell_type": "markdown",
   "id": "5fbd3d44",
   "metadata": {},
   "source": [
    "# Device Setting"
   ]
  },
  {
   "cell_type": "code",
   "execution_count": 10,
   "id": "457bfa83",
   "metadata": {},
   "outputs": [],
   "source": [
    "device = torch.device(\"cuda\" if torch.cuda.is_available() else \"cpu\")"
   ]
  },
  {
   "cell_type": "markdown",
   "id": "dc5c74a1",
   "metadata": {},
   "source": [
    "# Dataset Transformations"
   ]
  },
  {
   "cell_type": "code",
   "execution_count": null,
   "id": "d5c46031",
   "metadata": {},
   "outputs": [],
   "source": []
  }
 ],
 "metadata": {
  "kernelspec": {
   "display_name": "Python 3",
   "language": "python",
   "name": "python3"
  },
  "language_info": {
   "codemirror_mode": {
    "name": "ipython",
    "version": 3
   },
   "file_extension": ".py",
   "mimetype": "text/x-python",
   "name": "python",
   "nbconvert_exporter": "python",
   "pygments_lexer": "ipython3",
   "version": "3.12.2"
  }
 },
 "nbformat": 4,
 "nbformat_minor": 5
}
