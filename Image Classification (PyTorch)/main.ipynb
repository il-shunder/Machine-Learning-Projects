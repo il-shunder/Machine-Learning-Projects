{
 "cells": [
  {
   "cell_type": "markdown",
   "id": "69caa989",
   "metadata": {},
   "source": [
    "# Imports"
   ]
  },
  {
   "cell_type": "code",
   "execution_count": 2,
   "id": "e2f13702",
   "metadata": {},
   "outputs": [],
   "source": [
    "import numpy as np\n",
    "\n",
    "import torch\n",
    "import torch.nn as nn\n",
    "import torch.nn.functional as F\n",
    "import torch.optim as optim\n",
    "\n",
    "import torchvision\n",
    "import torchvision.transforms as transforms\n",
    "\n",
    "from PIL import Image"
   ]
  },
  {
   "cell_type": "markdown",
   "id": "22ff07f2",
   "metadata": {},
   "source": [
    "# Datasets Loading"
   ]
  },
  {
   "cell_type": "code",
   "execution_count": 3,
   "id": "45872588",
   "metadata": {},
   "outputs": [],
   "source": [
    "transform = transforms.Compose([\n",
    "    transforms.ToTensor(),\n",
    "    transforms.Normalize(mean=(0.5, 0.5, 0.5), std=(0.5, 0.5, 0.5))\n",
    "])"
   ]
  },
  {
   "cell_type": "code",
   "execution_count": 4,
   "id": "20ebcd14",
   "metadata": {},
   "outputs": [],
   "source": [
    "train_dataset = torchvision.datasets.CIFAR10(\n",
    "    root=\"./data\",\n",
    "    train=True,\n",
    "    download=True,\n",
    "    transform=transform\n",
    ")\n",
    "test_dataset = torchvision.datasets.CIFAR10(\n",
    "    root=\"./data\",\n",
    "    train=False,\n",
    "    download=True,\n",
    "    transform=transform\n",
    ")\n",
    "\n",
    "train_loader = torch.utils.data.DataLoader(\n",
    "    dataset=train_dataset,\n",
    "    batch_size=32,\n",
    "    shuffle=True\n",
    ")\n",
    "test_loader = torch.utils.data.DataLoader(\n",
    "    dataset=test_dataset,\n",
    "    batch_size=32,\n",
    "    shuffle=True\n",
    ")"
   ]
  },
  {
   "cell_type": "markdown",
   "id": "83fc2c7e",
   "metadata": {},
   "source": [
    "# Device Setting"
   ]
  },
  {
   "cell_type": "code",
   "execution_count": 5,
   "id": "75841873",
   "metadata": {},
   "outputs": [],
   "source": [
    "device = torch.device(\"cuda\" if torch.cuda.is_available() else \"cpu\")"
   ]
  },
  {
   "cell_type": "markdown",
   "id": "ebf51a4a",
   "metadata": {},
   "source": [
    "# Model Creation"
   ]
  },
  {
   "cell_type": "code",
   "execution_count": 6,
   "id": "85bd8621",
   "metadata": {},
   "outputs": [],
   "source": [
    "class Net(nn.Module):\n",
    "    def __init__(self):\n",
    "        super().__init__()\n",
    "        self.conv1 = nn.Conv2d(3, 16, 3)\n",
    "        self.pool = nn.MaxPool2d(2, 2)\n",
    "        self.conv2 = nn.Conv2d(16, 32, 3)\n",
    "        self.conv3 = nn.Conv2d(32, 64, 3)\n",
    "        self.fc1 = nn.Linear(64 * 2 * 2, 128)\n",
    "        self.fc2 = nn.Linear(128, 64)\n",
    "        self.fc3 = nn.Linear(64, 10)\n",
    "\n",
    "    def forward(self, x):           # x.shape = N, 3, 32, 32\n",
    "        x = F.relu(self.conv1(x))   # x.shape = N, 16, 30, 30\n",
    "        x = self.pool(x)            # x.shape = N, 16, 15, 15\n",
    "        x = F.relu(self.conv2(x))   # x.shape = N, 32, 13, 13\n",
    "        x = self.pool(x)            # x.shape = N, 32, 6, 6\n",
    "        x = F.relu(self.conv3(x))   # x.shape = N, 64, 4, 4\n",
    "        x = self.pool(x)            # x.shape = N, 64, 2, 2\n",
    "        x = torch.flatten(x, 1)     # x.shape = N, 64 * 2 * 2\n",
    "        x = F.relu(self.fc1(x))     # x.shape = N, 128\n",
    "        x = F.relu(self.fc2(x))     # x.shape = N, 64\n",
    "        x = self.fc3(x)             # x.shape = N, 10\n",
    "        return x\n",
    "\n",
    "model = Net().to(device)"
   ]
  },
  {
   "cell_type": "markdown",
   "id": "07e0a45a",
   "metadata": {},
   "source": [
    "# Loss and Optimizer"
   ]
  },
  {
   "cell_type": "code",
   "execution_count": 7,
   "id": "641b4e1d",
   "metadata": {},
   "outputs": [],
   "source": [
    "loss_fn = nn.CrossEntropyLoss()\n",
    "optimizer = optim.Adam(params=model.parameters(), lr=0.001)"
   ]
  },
  {
   "cell_type": "markdown",
   "id": "bcf92ac9",
   "metadata": {},
   "source": [
    "# Model Training"
   ]
  },
  {
   "cell_type": "code",
   "execution_count": 8,
   "id": "f93c7819",
   "metadata": {},
   "outputs": [
    {
     "name": "stdout",
     "output_type": "stream",
     "text": [
      "Epoch [1], Step [300], Loss: 1.5775\n",
      "Epoch [1], Step [600], Loss: 1.6139\n",
      "Epoch [1], Step [900], Loss: 1.5372\n",
      "Epoch [1], Step [1200], Loss: 1.4639\n",
      "Epoch [1], Step [1500], Loss: 1.5969\n",
      "Epoch [2], Step [300], Loss: 1.5465\n",
      "Epoch [2], Step [600], Loss: 1.4596\n",
      "Epoch [2], Step [900], Loss: 1.0901\n",
      "Epoch [2], Step [1200], Loss: 1.0867\n",
      "Epoch [2], Step [1500], Loss: 1.1851\n",
      "Epoch [3], Step [300], Loss: 1.3545\n",
      "Epoch [3], Step [600], Loss: 0.9435\n",
      "Epoch [3], Step [900], Loss: 0.9230\n",
      "Epoch [3], Step [1200], Loss: 1.3195\n",
      "Epoch [3], Step [1500], Loss: 0.8694\n",
      "Epoch [4], Step [300], Loss: 0.9325\n",
      "Epoch [4], Step [600], Loss: 1.2398\n",
      "Epoch [4], Step [900], Loss: 0.7962\n",
      "Epoch [4], Step [1200], Loss: 0.9552\n",
      "Epoch [4], Step [1500], Loss: 0.9602\n",
      "Epoch [5], Step [300], Loss: 1.1499\n",
      "Epoch [5], Step [600], Loss: 1.0769\n",
      "Epoch [5], Step [900], Loss: 1.2429\n",
      "Epoch [5], Step [1200], Loss: 0.8647\n",
      "Epoch [5], Step [1500], Loss: 1.1268\n"
     ]
    }
   ],
   "source": [
    "model.train()\n",
    "\n",
    "for epoch in range(5):\n",
    "    for batch_index, (images, labels) in enumerate(train_loader):\n",
    "        images = images.to(device)\n",
    "        labels = labels.to(device)\n",
    "\n",
    "        output = model(images)\n",
    "        loss = loss_fn(output, labels)\n",
    "\n",
    "        loss.backward()\n",
    "        optimizer.step()\n",
    "        optimizer.zero_grad()\n",
    "\n",
    "        if (batch_index + 1) % 300 == 0:\n",
    "            print (f'Epoch [{epoch + 1}], Step [{batch_index + 1}], Loss: {loss.item():.4f}')"
   ]
  },
  {
   "cell_type": "markdown",
   "id": "e9158247",
   "metadata": {},
   "source": [
    "# Model Testing"
   ]
  },
  {
   "cell_type": "code",
   "execution_count": 9,
   "id": "b3f24804",
   "metadata": {},
   "outputs": [
    {
     "name": "stdout",
     "output_type": "stream",
     "text": [
      "Accuracy of the Net: 67.22%\n"
     ]
    }
   ],
   "source": [
    "model.eval()\n",
    "\n",
    "with torch.no_grad():\n",
    "    n_samples = len(test_loader.dataset)\n",
    "    n_correct = 0\n",
    "\n",
    "    for data, targets in test_loader:\n",
    "        data = data.to(device)\n",
    "        targets = targets.to(targets)\n",
    "\n",
    "        output = model(data)\n",
    "\n",
    "        _, predicted = torch.max(output, 1)\n",
    "\n",
    "        n_correct += (predicted == targets).sum().item()\n",
    "\n",
    "    accuracy = 100.0 * n_correct / n_samples\n",
    "    print(f'Accuracy of the Net: {accuracy}%')"
   ]
  },
  {
   "cell_type": "code",
   "execution_count": null,
   "id": "9b8428c4",
   "metadata": {},
   "outputs": [],
   "source": [
    "torch.save(model.state_dict(), 'net.pth')"
   ]
  },
  {
   "cell_type": "code",
   "execution_count": null,
   "id": "b8a2fed5",
   "metadata": {},
   "outputs": [],
   "source": [
    "model = Net()\n",
    "model.load_state_dict(torch.load('net.pth'))\n",
    "model.to(device)"
   ]
  }
 ],
 "metadata": {
  "kernelspec": {
   "display_name": "Python 3",
   "language": "python",
   "name": "python3"
  },
  "language_info": {
   "codemirror_mode": {
    "name": "ipython",
    "version": 3
   },
   "file_extension": ".py",
   "mimetype": "text/x-python",
   "name": "python",
   "nbconvert_exporter": "python",
   "pygments_lexer": "ipython3",
   "version": "3.12.2"
  }
 },
 "nbformat": 4,
 "nbformat_minor": 5
}
