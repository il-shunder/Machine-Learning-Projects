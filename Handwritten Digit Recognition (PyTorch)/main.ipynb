{
 "cells": [
  {
   "cell_type": "markdown",
   "metadata": {},
   "source": [
    "# Imports"
   ]
  },
  {
   "cell_type": "code",
   "execution_count": 1,
   "metadata": {},
   "outputs": [],
   "source": [
    "import torch\n",
    "import torch.nn as nn\n",
    "import torch.nn.functional as F\n",
    "import torch.optim as optim \n",
    "import matplotlib.pyplot as plt\n",
    "from torchvision import datasets\n",
    "from torchvision.transforms import ToTensor\n",
    "from torch.utils.data import DataLoader"
   ]
  },
  {
   "cell_type": "markdown",
   "metadata": {},
   "source": [
    "# Datasets Loading"
   ]
  },
  {
   "cell_type": "code",
   "execution_count": 2,
   "metadata": {},
   "outputs": [],
   "source": [
    "train_dataset = datasets.MNIST(\n",
    "    root='data',\n",
    "    train=True,\n",
    "    download=True,\n",
    "    transform=ToTensor()\n",
    ")\n",
    "\n",
    "test_dataset = datasets.MNIST(\n",
    "    root='data',\n",
    "    train=False,\n",
    "    download=True,\n",
    "    transform=ToTensor()\n",
    ")"
   ]
  },
  {
   "cell_type": "code",
   "execution_count": 3,
   "metadata": {},
   "outputs": [
    {
     "name": "stdout",
     "output_type": "stream",
     "text": [
      "torch.Size([60000, 28, 28])\n",
      "torch.Size([60000])\n"
     ]
    }
   ],
   "source": [
    "print(train_dataset.data.shape)\n",
    "print(train_dataset.targets.shape)"
   ]
  },
  {
   "cell_type": "code",
   "execution_count": 4,
   "metadata": {},
   "outputs": [],
   "source": [
    "train_loader = DataLoader(\n",
    "    dataset=train_dataset,\n",
    "    batch_size=100,\n",
    "    shuffle=True\n",
    ")\n",
    "\n",
    "test_loader = DataLoader(\n",
    "    dataset=test_dataset,\n",
    "    batch_size=100,\n",
    "    shuffle=True\n",
    ")"
   ]
  },
  {
   "cell_type": "markdown",
   "metadata": {},
   "source": [
    "# Device Setting"
   ]
  },
  {
   "cell_type": "code",
   "execution_count": 5,
   "metadata": {},
   "outputs": [],
   "source": [
    "device = torch.device(\"cuda\" if torch.cuda.is_available() else \"cpu\")"
   ]
  },
  {
   "cell_type": "markdown",
   "metadata": {},
   "source": [
    "# Model Creation (CNN)"
   ]
  },
  {
   "cell_type": "code",
   "execution_count": 6,
   "metadata": {},
   "outputs": [],
   "source": [
    "class CNN(nn.Module):\n",
    "    def __init__(self):\n",
    "        super().__init__()\n",
    "        self.conv1 = nn.Conv2d(1, 16, kernel_size=3)\n",
    "        self.conv2 = nn.Conv2d(16, 32, kernel_size=3)\n",
    "        self.conv3 = nn.Conv2d(32, 64, kernel_size=3)\n",
    "        self.pool = nn.MaxPool2d(2, 2)\n",
    "        self.fc1 = nn.Linear(64 * 3 * 3, 64)\n",
    "        self.fc2 = nn.Linear(64, 10)\n",
    "    \n",
    "    def forward(self, x):\n",
    "        x = F.relu(self.conv1(x))\n",
    "        x = self.pool(x)\n",
    "        x = F.relu(self.conv2(x))\n",
    "        x = self.pool(x)\n",
    "        x = F.relu(self.conv3(x))\n",
    "        x = torch.flatten(x, 1) # x.shape = N, 576 | (64 * 3 * 3)\n",
    "        x = F.relu(self.fc1(x))\n",
    "        x = self.fc2(x)\n",
    "        return x\n",
    "\n",
    "model = CNN().to(device)"
   ]
  },
  {
   "cell_type": "markdown",
   "metadata": {},
   "source": [
    "# Loss and Optimizer"
   ]
  },
  {
   "cell_type": "code",
   "execution_count": 7,
   "metadata": {},
   "outputs": [],
   "source": [
    "loss_fn = nn.CrossEntropyLoss()\n",
    "optimizer = optim.Adam(model.parameters(), lr=0.0001)"
   ]
  },
  {
   "cell_type": "markdown",
   "metadata": {},
   "source": [
    "# Model Training"
   ]
  },
  {
   "cell_type": "code",
   "execution_count": 8,
   "metadata": {},
   "outputs": [
    {
     "name": "stdout",
     "output_type": "stream",
     "text": [
      "Epoch [1], Step [100], Loss: 2.1232\n",
      "Epoch [1], Step [200], Loss: 0.9629\n",
      "Epoch [1], Step [300], Loss: 0.7197\n",
      "Epoch [1], Step [400], Loss: 0.4205\n",
      "Epoch [1], Step [500], Loss: 0.3729\n",
      "Epoch [1], Step [600], Loss: 0.3041\n",
      "Epoch [2], Step [100], Loss: 0.2675\n",
      "Epoch [2], Step [200], Loss: 0.3228\n",
      "Epoch [2], Step [300], Loss: 0.2157\n",
      "Epoch [2], Step [400], Loss: 0.3456\n",
      "Epoch [2], Step [500], Loss: 0.3115\n",
      "Epoch [2], Step [600], Loss: 0.2094\n",
      "Epoch [3], Step [100], Loss: 0.2244\n",
      "Epoch [3], Step [200], Loss: 0.1156\n",
      "Epoch [3], Step [300], Loss: 0.1545\n",
      "Epoch [3], Step [400], Loss: 0.2461\n",
      "Epoch [3], Step [500], Loss: 0.1504\n",
      "Epoch [3], Step [600], Loss: 0.2396\n",
      "Epoch [4], Step [100], Loss: 0.1383\n",
      "Epoch [4], Step [200], Loss: 0.2490\n",
      "Epoch [4], Step [300], Loss: 0.1101\n",
      "Epoch [4], Step [400], Loss: 0.1223\n",
      "Epoch [4], Step [500], Loss: 0.0748\n",
      "Epoch [4], Step [600], Loss: 0.1400\n",
      "Epoch [5], Step [100], Loss: 0.1226\n",
      "Epoch [5], Step [200], Loss: 0.1765\n",
      "Epoch [5], Step [300], Loss: 0.1009\n",
      "Epoch [5], Step [400], Loss: 0.1252\n",
      "Epoch [5], Step [500], Loss: 0.0966\n",
      "Epoch [5], Step [600], Loss: 0.1465\n",
      "Epoch [6], Step [100], Loss: 0.2396\n",
      "Epoch [6], Step [200], Loss: 0.0870\n",
      "Epoch [6], Step [300], Loss: 0.1205\n",
      "Epoch [6], Step [400], Loss: 0.0845\n",
      "Epoch [6], Step [500], Loss: 0.1327\n",
      "Epoch [6], Step [600], Loss: 0.1565\n",
      "Epoch [7], Step [100], Loss: 0.0311\n",
      "Epoch [7], Step [200], Loss: 0.0841\n",
      "Epoch [7], Step [300], Loss: 0.1402\n",
      "Epoch [7], Step [400], Loss: 0.1220\n",
      "Epoch [7], Step [500], Loss: 0.1227\n",
      "Epoch [7], Step [600], Loss: 0.1163\n",
      "Epoch [8], Step [100], Loss: 0.0770\n",
      "Epoch [8], Step [200], Loss: 0.0472\n",
      "Epoch [8], Step [300], Loss: 0.0765\n",
      "Epoch [8], Step [400], Loss: 0.1044\n",
      "Epoch [8], Step [500], Loss: 0.0562\n",
      "Epoch [8], Step [600], Loss: 0.1050\n",
      "Epoch [9], Step [100], Loss: 0.0469\n",
      "Epoch [9], Step [200], Loss: 0.2082\n",
      "Epoch [9], Step [300], Loss: 0.1025\n",
      "Epoch [9], Step [400], Loss: 0.0599\n",
      "Epoch [9], Step [500], Loss: 0.0412\n",
      "Epoch [9], Step [600], Loss: 0.0674\n",
      "Epoch [10], Step [100], Loss: 0.0449\n",
      "Epoch [10], Step [200], Loss: 0.0264\n",
      "Epoch [10], Step [300], Loss: 0.0515\n",
      "Epoch [10], Step [400], Loss: 0.0492\n",
      "Epoch [10], Step [500], Loss: 0.0222\n",
      "Epoch [10], Step [600], Loss: 0.1074\n"
     ]
    }
   ],
   "source": [
    "model.train()\n",
    "\n",
    "for epoch in range(10):\n",
    "    for batch_idx, (data, target) in enumerate(train_loader):\n",
    "        data, target = data.to(device), target.to(device)\n",
    "\n",
    "        # Forward pass\n",
    "        output = model(data)\n",
    "        loss = loss_fn(output, target)\n",
    "\n",
    "        # Backward and optimize\n",
    "        loss.backward()\n",
    "        optimizer.step()\n",
    "        optimizer.zero_grad()\n",
    "\n",
    "        if (batch_idx + 1) % 100 == 0:\n",
    "            print (f'Epoch [{epoch + 1}], Step [{batch_idx + 1}], Loss: {loss.item():.4f}')"
   ]
  },
  {
   "cell_type": "markdown",
   "metadata": {},
   "source": [
    "# Testing"
   ]
  },
  {
   "cell_type": "code",
   "execution_count": 9,
   "metadata": {},
   "outputs": [
    {
     "name": "stdout",
     "output_type": "stream",
     "text": [
      "Accuracy of the CNN: 98.04%\n"
     ]
    }
   ],
   "source": [
    "model.eval()\n",
    "\n",
    "with torch.no_grad():\n",
    "    n_correct = 0\n",
    "    n_samples = len(test_loader.dataset)\n",
    "\n",
    "    for data, targets in test_loader:\n",
    "        data, targets = data.to(device), targets.to(device)\n",
    "\n",
    "        output = model(data)\n",
    "        _, predicted = torch.max(output, 1)\n",
    "\n",
    "        n_correct += (predicted == targets).sum().item()\n",
    "\n",
    "    accuracy = 100.0 * n_correct / n_samples\n",
    "    print(f'Accuracy of the CNN: {accuracy}%')"
   ]
  }
 ],
 "metadata": {
  "kernelspec": {
   "display_name": "Python 3",
   "language": "python",
   "name": "python3"
  },
  "language_info": {
   "codemirror_mode": {
    "name": "ipython",
    "version": 3
   },
   "file_extension": ".py",
   "mimetype": "text/x-python",
   "name": "python",
   "nbconvert_exporter": "python",
   "pygments_lexer": "ipython3",
   "version": "3.12.2"
  }
 },
 "nbformat": 4,
 "nbformat_minor": 2
}
